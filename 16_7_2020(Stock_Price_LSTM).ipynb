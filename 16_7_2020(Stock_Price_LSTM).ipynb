{
  "nbformat": 4,
  "nbformat_minor": 0,
  "metadata": {
    "colab": {
      "name": "16-7-2020(Stock Price LSTM).ipynb",
      "provenance": []
    },
    "kernelspec": {
      "name": "python3",
      "display_name": "Python 3"
    }
  },
  "cells": [
    {
      "cell_type": "code",
      "metadata": {
        "id": "lV9GfahRx0Ur",
        "colab_type": "code",
        "colab": {
          "base_uri": "https://localhost:8080/",
          "height": 139
        },
        "outputId": "2c392920-ce7e-41f8-f836-a304a8fe4501"
      },
      "source": [
        "from google.colab import drive\n",
        "drive.mount('/gdrive')\n",
        "%cd /gdrive"
      ],
      "execution_count": 1,
      "outputs": [
        {
          "output_type": "stream",
          "text": [
            "Go to this URL in a browser: https://accounts.google.com/o/oauth2/auth?client_id=947318989803-6bn6qk8qdgf4n4g3pfee6491hc0brc4i.apps.googleusercontent.com&redirect_uri=urn%3aietf%3awg%3aoauth%3a2.0%3aoob&response_type=code&scope=email%20https%3a%2f%2fwww.googleapis.com%2fauth%2fdocs.test%20https%3a%2f%2fwww.googleapis.com%2fauth%2fdrive%20https%3a%2f%2fwww.googleapis.com%2fauth%2fdrive.photos.readonly%20https%3a%2f%2fwww.googleapis.com%2fauth%2fpeopleapi.readonly\n",
            "\n",
            "Enter your authorization code:\n",
            "··········\n",
            "Mounted at /gdrive\n",
            "/gdrive\n"
          ],
          "name": "stdout"
        }
      ]
    },
    {
      "cell_type": "code",
      "metadata": {
        "id": "SXxeA8pVyGWW",
        "colab_type": "code",
        "colab": {
          "base_uri": "https://localhost:8080/",
          "height": 34
        },
        "outputId": "8a62009e-a9f8-4c8b-d048-863edabbe499"
      },
      "source": [
        "! ls 'My Drive/2020/Courses Taken'"
      ],
      "execution_count": 7,
      "outputs": [
        {
          "output_type": "stream",
          "text": [
            " all_stocks_5yr.csv  'Data Science'\n"
          ],
          "name": "stdout"
        }
      ]
    },
    {
      "cell_type": "code",
      "metadata": {
        "id": "cxtAFpbGyTKg",
        "colab_type": "code",
        "colab": {
          "base_uri": "https://localhost:8080/",
          "height": 34
        },
        "outputId": "2f6400d9-7a16-4568-e4b4-9adb4b7dbf69"
      },
      "source": [
        "## all_stocks_5yr.csv\n",
        "import pandas as pd\n",
        "data = pd.read_csv('My Drive/2020/Courses Taken/all_stocks_5yr.csv')\n",
        "data.shape"
      ],
      "execution_count": 8,
      "outputs": [
        {
          "output_type": "execute_result",
          "data": {
            "text/plain": [
              "(619040, 7)"
            ]
          },
          "metadata": {
            "tags": []
          },
          "execution_count": 8
        }
      ]
    },
    {
      "cell_type": "code",
      "metadata": {
        "id": "0mGrhFKZzg-I",
        "colab_type": "code",
        "colab": {
          "base_uri": "https://localhost:8080/",
          "height": 204
        },
        "outputId": "fd50cacf-28b1-4876-9b8e-0ba56107ac92"
      },
      "source": [
        "# Top Five rows\n",
        "data.head()"
      ],
      "execution_count": 9,
      "outputs": [
        {
          "output_type": "execute_result",
          "data": {
            "text/html": [
              "<div>\n",
              "<style scoped>\n",
              "    .dataframe tbody tr th:only-of-type {\n",
              "        vertical-align: middle;\n",
              "    }\n",
              "\n",
              "    .dataframe tbody tr th {\n",
              "        vertical-align: top;\n",
              "    }\n",
              "\n",
              "    .dataframe thead th {\n",
              "        text-align: right;\n",
              "    }\n",
              "</style>\n",
              "<table border=\"1\" class=\"dataframe\">\n",
              "  <thead>\n",
              "    <tr style=\"text-align: right;\">\n",
              "      <th></th>\n",
              "      <th>date</th>\n",
              "      <th>open</th>\n",
              "      <th>high</th>\n",
              "      <th>low</th>\n",
              "      <th>close</th>\n",
              "      <th>volume</th>\n",
              "      <th>Name</th>\n",
              "    </tr>\n",
              "  </thead>\n",
              "  <tbody>\n",
              "    <tr>\n",
              "      <th>0</th>\n",
              "      <td>2013-02-08</td>\n",
              "      <td>15.07</td>\n",
              "      <td>15.12</td>\n",
              "      <td>14.63</td>\n",
              "      <td>14.75</td>\n",
              "      <td>8407500</td>\n",
              "      <td>AAL</td>\n",
              "    </tr>\n",
              "    <tr>\n",
              "      <th>1</th>\n",
              "      <td>2013-02-11</td>\n",
              "      <td>14.89</td>\n",
              "      <td>15.01</td>\n",
              "      <td>14.26</td>\n",
              "      <td>14.46</td>\n",
              "      <td>8882000</td>\n",
              "      <td>AAL</td>\n",
              "    </tr>\n",
              "    <tr>\n",
              "      <th>2</th>\n",
              "      <td>2013-02-12</td>\n",
              "      <td>14.45</td>\n",
              "      <td>14.51</td>\n",
              "      <td>14.10</td>\n",
              "      <td>14.27</td>\n",
              "      <td>8126000</td>\n",
              "      <td>AAL</td>\n",
              "    </tr>\n",
              "    <tr>\n",
              "      <th>3</th>\n",
              "      <td>2013-02-13</td>\n",
              "      <td>14.30</td>\n",
              "      <td>14.94</td>\n",
              "      <td>14.25</td>\n",
              "      <td>14.66</td>\n",
              "      <td>10259500</td>\n",
              "      <td>AAL</td>\n",
              "    </tr>\n",
              "    <tr>\n",
              "      <th>4</th>\n",
              "      <td>2013-02-14</td>\n",
              "      <td>14.94</td>\n",
              "      <td>14.96</td>\n",
              "      <td>13.16</td>\n",
              "      <td>13.99</td>\n",
              "      <td>31879900</td>\n",
              "      <td>AAL</td>\n",
              "    </tr>\n",
              "  </tbody>\n",
              "</table>\n",
              "</div>"
            ],
            "text/plain": [
              "         date   open   high    low  close    volume Name\n",
              "0  2013-02-08  15.07  15.12  14.63  14.75   8407500  AAL\n",
              "1  2013-02-11  14.89  15.01  14.26  14.46   8882000  AAL\n",
              "2  2013-02-12  14.45  14.51  14.10  14.27   8126000  AAL\n",
              "3  2013-02-13  14.30  14.94  14.25  14.66  10259500  AAL\n",
              "4  2013-02-14  14.94  14.96  13.16  13.99  31879900  AAL"
            ]
          },
          "metadata": {
            "tags": []
          },
          "execution_count": 9
        }
      ]
    },
    {
      "cell_type": "code",
      "metadata": {
        "id": "HoRZzPyJzkaZ",
        "colab_type": "code",
        "colab": {
          "base_uri": "https://localhost:8080/",
          "height": 34
        },
        "outputId": "03f98bc1-e59e-4032-be8c-8aa9773fb98e"
      },
      "source": [
        "data.columns"
      ],
      "execution_count": 10,
      "outputs": [
        {
          "output_type": "execute_result",
          "data": {
            "text/plain": [
              "Index(['date', 'open', 'high', 'low', 'close', 'volume', 'Name'], dtype='object')"
            ]
          },
          "metadata": {
            "tags": []
          },
          "execution_count": 10
        }
      ]
    },
    {
      "cell_type": "code",
      "metadata": {
        "id": "AcTNSr_9zm66",
        "colab_type": "code",
        "colab": {
          "base_uri": "https://localhost:8080/",
          "height": 34
        },
        "outputId": "8a5755e5-3601-4b17-a7f3-e2a4d569bfb0"
      },
      "source": [
        "### How many company's data we have here?\n",
        "data.Name.nunique()"
      ],
      "execution_count": 11,
      "outputs": [
        {
          "output_type": "execute_result",
          "data": {
            "text/plain": [
              "505"
            ]
          },
          "metadata": {
            "tags": []
          },
          "execution_count": 11
        }
      ]
    },
    {
      "cell_type": "code",
      "metadata": {
        "id": "fFbYT7eSzpgr",
        "colab_type": "code",
        "colab": {
          "base_uri": "https://localhost:8080/",
          "height": 34
        },
        "outputId": "b0f2b631-7ca9-4346-a451-f40102299b7c"
      },
      "source": [
        "## Selecting the data AAL\n",
        "df = data[data['Name']=='AAL']\n",
        "df.shape"
      ],
      "execution_count": 12,
      "outputs": [
        {
          "output_type": "execute_result",
          "data": {
            "text/plain": [
              "(1259, 7)"
            ]
          },
          "metadata": {
            "tags": []
          },
          "execution_count": 12
        }
      ]
    },
    {
      "cell_type": "code",
      "metadata": {
        "id": "F3H7NM03zr9c",
        "colab_type": "code",
        "colab": {
          "base_uri": "https://localhost:8080/",
          "height": 34
        },
        "outputId": "d4ce3723-3cb7-4869-eda6-ef0ef22654a2"
      },
      "source": [
        "df.columns"
      ],
      "execution_count": 13,
      "outputs": [
        {
          "output_type": "execute_result",
          "data": {
            "text/plain": [
              "Index(['date', 'open', 'high', 'low', 'close', 'volume', 'Name'], dtype='object')"
            ]
          },
          "metadata": {
            "tags": []
          },
          "execution_count": 13
        }
      ]
    },
    {
      "cell_type": "code",
      "metadata": {
        "id": "apUMHqeyzuON",
        "colab_type": "code",
        "colab": {
          "base_uri": "https://localhost:8080/",
          "height": 419
        },
        "outputId": "204c2256-5e76-4178-b87e-df55d9dd5ea3"
      },
      "source": [
        "#select the columns date and close price\n",
        "df = df[['date','close']]\n",
        "df"
      ],
      "execution_count": 14,
      "outputs": [
        {
          "output_type": "execute_result",
          "data": {
            "text/html": [
              "<div>\n",
              "<style scoped>\n",
              "    .dataframe tbody tr th:only-of-type {\n",
              "        vertical-align: middle;\n",
              "    }\n",
              "\n",
              "    .dataframe tbody tr th {\n",
              "        vertical-align: top;\n",
              "    }\n",
              "\n",
              "    .dataframe thead th {\n",
              "        text-align: right;\n",
              "    }\n",
              "</style>\n",
              "<table border=\"1\" class=\"dataframe\">\n",
              "  <thead>\n",
              "    <tr style=\"text-align: right;\">\n",
              "      <th></th>\n",
              "      <th>date</th>\n",
              "      <th>close</th>\n",
              "    </tr>\n",
              "  </thead>\n",
              "  <tbody>\n",
              "    <tr>\n",
              "      <th>0</th>\n",
              "      <td>2013-02-08</td>\n",
              "      <td>14.75</td>\n",
              "    </tr>\n",
              "    <tr>\n",
              "      <th>1</th>\n",
              "      <td>2013-02-11</td>\n",
              "      <td>14.46</td>\n",
              "    </tr>\n",
              "    <tr>\n",
              "      <th>2</th>\n",
              "      <td>2013-02-12</td>\n",
              "      <td>14.27</td>\n",
              "    </tr>\n",
              "    <tr>\n",
              "      <th>3</th>\n",
              "      <td>2013-02-13</td>\n",
              "      <td>14.66</td>\n",
              "    </tr>\n",
              "    <tr>\n",
              "      <th>4</th>\n",
              "      <td>2013-02-14</td>\n",
              "      <td>13.99</td>\n",
              "    </tr>\n",
              "    <tr>\n",
              "      <th>...</th>\n",
              "      <td>...</td>\n",
              "      <td>...</td>\n",
              "    </tr>\n",
              "    <tr>\n",
              "      <th>1254</th>\n",
              "      <td>2018-02-01</td>\n",
              "      <td>53.88</td>\n",
              "    </tr>\n",
              "    <tr>\n",
              "      <th>1255</th>\n",
              "      <td>2018-02-02</td>\n",
              "      <td>52.10</td>\n",
              "    </tr>\n",
              "    <tr>\n",
              "      <th>1256</th>\n",
              "      <td>2018-02-05</td>\n",
              "      <td>49.76</td>\n",
              "    </tr>\n",
              "    <tr>\n",
              "      <th>1257</th>\n",
              "      <td>2018-02-06</td>\n",
              "      <td>51.18</td>\n",
              "    </tr>\n",
              "    <tr>\n",
              "      <th>1258</th>\n",
              "      <td>2018-02-07</td>\n",
              "      <td>51.40</td>\n",
              "    </tr>\n",
              "  </tbody>\n",
              "</table>\n",
              "<p>1259 rows × 2 columns</p>\n",
              "</div>"
            ],
            "text/plain": [
              "            date  close\n",
              "0     2013-02-08  14.75\n",
              "1     2013-02-11  14.46\n",
              "2     2013-02-12  14.27\n",
              "3     2013-02-13  14.66\n",
              "4     2013-02-14  13.99\n",
              "...          ...    ...\n",
              "1254  2018-02-01  53.88\n",
              "1255  2018-02-02  52.10\n",
              "1256  2018-02-05  49.76\n",
              "1257  2018-02-06  51.18\n",
              "1258  2018-02-07  51.40\n",
              "\n",
              "[1259 rows x 2 columns]"
            ]
          },
          "metadata": {
            "tags": []
          },
          "execution_count": 14
        }
      ]
    },
    {
      "cell_type": "code",
      "metadata": {
        "id": "bEYIuT7mzwFo",
        "colab_type": "code",
        "colab": {
          "base_uri": "https://localhost:8080/",
          "height": 283
        },
        "outputId": "fd6e8f06-7943-4fa9-a5e3-c49e25f549fc"
      },
      "source": [
        "# Line plot\n",
        "import matplotlib.pyplot as plt\n",
        "plt.plot(df['date'],df['close'])"
      ],
      "execution_count": 15,
      "outputs": [
        {
          "output_type": "execute_result",
          "data": {
            "text/plain": [
              "[<matplotlib.lines.Line2D at 0x7f9e96e222b0>]"
            ]
          },
          "metadata": {
            "tags": []
          },
          "execution_count": 15
        },
        {
          "output_type": "display_data",
          "data": {
            "image/png": "[encoded data removed]",
            "text/plain": [
              "<Figure size 432x288 with 1 Axes>"
            ]
          },
          "metadata": {
            "tags": [],
            "needs_background": "light"
          }
        }
      ]
    },
    {
      "cell_type": "code",
      "metadata": {
        "id": "DVbBsM3Wz0f2",
        "colab_type": "code",
        "colab": {
          "base_uri": "https://localhost:8080/",
          "height": 204
        },
        "outputId": "5ea34b1b-29d5-4c8f-91e1-5582f0574663"
      },
      "source": [
        "df.date[:10]"
      ],
      "execution_count": 16,
      "outputs": [
        {
          "output_type": "execute_result",
          "data": {
            "text/plain": [
              "0    2013-02-08\n",
              "1    2013-02-11\n",
              "2    2013-02-12\n",
              "3    2013-02-13\n",
              "4    2013-02-14\n",
              "5    2013-02-15\n",
              "6    2013-02-19\n",
              "7    2013-02-20\n",
              "8    2013-02-21\n",
              "9    2013-02-22\n",
              "Name: date, dtype: object"
            ]
          },
          "metadata": {
            "tags": []
          },
          "execution_count": 16
        }
      ]
    },
    {
      "cell_type": "code",
      "metadata": {
        "id": "Gm2DRHUhz5S_",
        "colab_type": "code",
        "colab": {
          "base_uri": "https://localhost:8080/",
          "height": 68
        },
        "outputId": "6f0f86b3-1192-45cd-f37f-f51c6d09197b"
      },
      "source": [
        "### Missing values in the data\n",
        "df.isnull().sum()"
      ],
      "execution_count": 17,
      "outputs": [
        {
          "output_type": "execute_result",
          "data": {
            "text/plain": [
              "date     0\n",
              "close    0\n",
              "dtype: int64"
            ]
          },
          "metadata": {
            "tags": []
          },
          "execution_count": 17
        }
      ]
    },
    {
      "cell_type": "code",
      "metadata": {
        "id": "o82ZWDkPz7xf",
        "colab_type": "code",
        "colab": {
          "base_uri": "https://localhost:8080/",
          "height": 272
        },
        "outputId": "1102ff1e-17d3-4641-f845-a56d7b2936bf"
      },
      "source": [
        "## Preparing the data\n",
        "## Features and target\n",
        "## Input and output\n",
        "## last 7 days data as input\n",
        "## X -- [[d1-d7],[d9,d15],[d17,23]....]\n",
        "## y -- [d8,d16,d24,...]\n",
        "\n",
        "## X = [[d1-d7],[d2-d8],]\n",
        "## y = [d8,d9]\n",
        "X = [] ## input\n",
        "y = [] ## ouput\n",
        "for i  in range(df.shape[0]-7-1):   \n",
        "  X.append(df['close'][i:i+7])# 0 -->[0:7], 1-->[1:8]\n",
        "  y.append(df['close'][i+7])# 7,8,9\n",
        "print(X[:2])"
      ],
      "execution_count": 18,
      "outputs": [
        {
          "output_type": "stream",
          "text": [
            "[0    14.75\n",
            "1    14.46\n",
            "2    14.27\n",
            "3    14.66\n",
            "4    13.99\n",
            "5    14.50\n",
            "6    14.26\n",
            "Name: close, dtype: float64, 1    14.46\n",
            "2    14.27\n",
            "3    14.66\n",
            "4    13.99\n",
            "5    14.50\n",
            "6    14.26\n",
            "7    13.33\n",
            "Name: close, dtype: float64]\n"
          ],
          "name": "stdout"
        }
      ]
    },
    {
      "cell_type": "code",
      "metadata": {
        "id": "_t5E7SUA0Aeh",
        "colab_type": "code",
        "colab": {}
      },
      "source": [
        "import numpy as np\n",
        "X = np.array(X)"
      ],
      "execution_count": 19,
      "outputs": []
    },
    {
      "cell_type": "code",
      "metadata": {
        "id": "05fsn4q40EYe",
        "colab_type": "code",
        "colab": {
          "base_uri": "https://localhost:8080/",
          "height": 204
        },
        "outputId": "019ac1dd-1c7e-4be8-83ca-6c3e1206ef0a"
      },
      "source": [
        "df1  = pd.DataFrame(X,columns=['d1','d2','d3','d4','d5','d6','d7'])\n",
        "df1.head()"
      ],
      "execution_count": 20,
      "outputs": [
        {
          "output_type": "execute_result",
          "data": {
            "text/html": [
              "<div>\n",
              "<style scoped>\n",
              "    .dataframe tbody tr th:only-of-type {\n",
              "        vertical-align: middle;\n",
              "    }\n",
              "\n",
              "    .dataframe tbody tr th {\n",
              "        vertical-align: top;\n",
              "    }\n",
              "\n",
              "    .dataframe thead th {\n",
              "        text-align: right;\n",
              "    }\n",
              "</style>\n",
              "<table border=\"1\" class=\"dataframe\">\n",
              "  <thead>\n",
              "    <tr style=\"text-align: right;\">\n",
              "      <th></th>\n",
              "      <th>d1</th>\n",
              "      <th>d2</th>\n",
              "      <th>d3</th>\n",
              "      <th>d4</th>\n",
              "      <th>d5</th>\n",
              "      <th>d6</th>\n",
              "      <th>d7</th>\n",
              "    </tr>\n",
              "  </thead>\n",
              "  <tbody>\n",
              "    <tr>\n",
              "      <th>0</th>\n",
              "      <td>14.75</td>\n",
              "      <td>14.46</td>\n",
              "      <td>14.27</td>\n",
              "      <td>14.66</td>\n",
              "      <td>13.99</td>\n",
              "      <td>14.50</td>\n",
              "      <td>14.26</td>\n",
              "    </tr>\n",
              "    <tr>\n",
              "      <th>1</th>\n",
              "      <td>14.46</td>\n",
              "      <td>14.27</td>\n",
              "      <td>14.66</td>\n",
              "      <td>13.99</td>\n",
              "      <td>14.50</td>\n",
              "      <td>14.26</td>\n",
              "      <td>13.33</td>\n",
              "    </tr>\n",
              "    <tr>\n",
              "      <th>2</th>\n",
              "      <td>14.27</td>\n",
              "      <td>14.66</td>\n",
              "      <td>13.99</td>\n",
              "      <td>14.50</td>\n",
              "      <td>14.26</td>\n",
              "      <td>13.33</td>\n",
              "      <td>13.37</td>\n",
              "    </tr>\n",
              "    <tr>\n",
              "      <th>3</th>\n",
              "      <td>14.66</td>\n",
              "      <td>13.99</td>\n",
              "      <td>14.50</td>\n",
              "      <td>14.26</td>\n",
              "      <td>13.33</td>\n",
              "      <td>13.37</td>\n",
              "      <td>13.57</td>\n",
              "    </tr>\n",
              "    <tr>\n",
              "      <th>4</th>\n",
              "      <td>13.99</td>\n",
              "      <td>14.50</td>\n",
              "      <td>14.26</td>\n",
              "      <td>13.33</td>\n",
              "      <td>13.37</td>\n",
              "      <td>13.57</td>\n",
              "      <td>13.02</td>\n",
              "    </tr>\n",
              "  </tbody>\n",
              "</table>\n",
              "</div>"
            ],
            "text/plain": [
              "      d1     d2     d3     d4     d5     d6     d7\n",
              "0  14.75  14.46  14.27  14.66  13.99  14.50  14.26\n",
              "1  14.46  14.27  14.66  13.99  14.50  14.26  13.33\n",
              "2  14.27  14.66  13.99  14.50  14.26  13.33  13.37\n",
              "3  14.66  13.99  14.50  14.26  13.33  13.37  13.57\n",
              "4  13.99  14.50  14.26  13.33  13.37  13.57  13.02"
            ]
          },
          "metadata": {
            "tags": []
          },
          "execution_count": 20
        }
      ]
    },
    {
      "cell_type": "code",
      "metadata": {
        "id": "JZm0uAqo0G5g",
        "colab_type": "code",
        "colab": {
          "base_uri": "https://localhost:8080/",
          "height": 204
        },
        "outputId": "8a5d411c-fbd8-4ae9-c951-d665755a1bfc"
      },
      "source": [
        "df1['d8'] = y\n",
        "df1.head()"
      ],
      "execution_count": 21,
      "outputs": [
        {
          "output_type": "execute_result",
          "data": {
            "text/html": [
              "<div>\n",
              "<style scoped>\n",
              "    .dataframe tbody tr th:only-of-type {\n",
              "        vertical-align: middle;\n",
              "    }\n",
              "\n",
              "    .dataframe tbody tr th {\n",
              "        vertical-align: top;\n",
              "    }\n",
              "\n",
              "    .dataframe thead th {\n",
              "        text-align: right;\n",
              "    }\n",
              "</style>\n",
              "<table border=\"1\" class=\"dataframe\">\n",
              "  <thead>\n",
              "    <tr style=\"text-align: right;\">\n",
              "      <th></th>\n",
              "      <th>d1</th>\n",
              "      <th>d2</th>\n",
              "      <th>d3</th>\n",
              "      <th>d4</th>\n",
              "      <th>d5</th>\n",
              "      <th>d6</th>\n",
              "      <th>d7</th>\n",
              "      <th>d8</th>\n",
              "    </tr>\n",
              "  </thead>\n",
              "  <tbody>\n",
              "    <tr>\n",
              "      <th>0</th>\n",
              "      <td>14.75</td>\n",
              "      <td>14.46</td>\n",
              "      <td>14.27</td>\n",
              "      <td>14.66</td>\n",
              "      <td>13.99</td>\n",
              "      <td>14.50</td>\n",
              "      <td>14.26</td>\n",
              "      <td>13.33</td>\n",
              "    </tr>\n",
              "    <tr>\n",
              "      <th>1</th>\n",
              "      <td>14.46</td>\n",
              "      <td>14.27</td>\n",
              "      <td>14.66</td>\n",
              "      <td>13.99</td>\n",
              "      <td>14.50</td>\n",
              "      <td>14.26</td>\n",
              "      <td>13.33</td>\n",
              "      <td>13.37</td>\n",
              "    </tr>\n",
              "    <tr>\n",
              "      <th>2</th>\n",
              "      <td>14.27</td>\n",
              "      <td>14.66</td>\n",
              "      <td>13.99</td>\n",
              "      <td>14.50</td>\n",
              "      <td>14.26</td>\n",
              "      <td>13.33</td>\n",
              "      <td>13.37</td>\n",
              "      <td>13.57</td>\n",
              "    </tr>\n",
              "    <tr>\n",
              "      <th>3</th>\n",
              "      <td>14.66</td>\n",
              "      <td>13.99</td>\n",
              "      <td>14.50</td>\n",
              "      <td>14.26</td>\n",
              "      <td>13.33</td>\n",
              "      <td>13.37</td>\n",
              "      <td>13.57</td>\n",
              "      <td>13.02</td>\n",
              "    </tr>\n",
              "    <tr>\n",
              "      <th>4</th>\n",
              "      <td>13.99</td>\n",
              "      <td>14.50</td>\n",
              "      <td>14.26</td>\n",
              "      <td>13.33</td>\n",
              "      <td>13.37</td>\n",
              "      <td>13.57</td>\n",
              "      <td>13.02</td>\n",
              "      <td>13.26</td>\n",
              "    </tr>\n",
              "  </tbody>\n",
              "</table>\n",
              "</div>"
            ],
            "text/plain": [
              "      d1     d2     d3     d4     d5     d6     d7     d8\n",
              "0  14.75  14.46  14.27  14.66  13.99  14.50  14.26  13.33\n",
              "1  14.46  14.27  14.66  13.99  14.50  14.26  13.33  13.37\n",
              "2  14.27  14.66  13.99  14.50  14.26  13.33  13.37  13.57\n",
              "3  14.66  13.99  14.50  14.26  13.33  13.37  13.57  13.02\n",
              "4  13.99  14.50  14.26  13.33  13.37  13.57  13.02  13.26"
            ]
          },
          "metadata": {
            "tags": []
          },
          "execution_count": 21
        }
      ]
    },
    {
      "cell_type": "code",
      "metadata": {
        "id": "r1OXGmQC0JP-",
        "colab_type": "code",
        "colab": {
          "base_uri": "https://localhost:8080/",
          "height": 34
        },
        "outputId": "1ae1ea91-c347-4a0d-de5b-f859b0a63521"
      },
      "source": [
        "df1.shape"
      ],
      "execution_count": 22,
      "outputs": [
        {
          "output_type": "execute_result",
          "data": {
            "text/plain": [
              "(1251, 8)"
            ]
          },
          "metadata": {
            "tags": []
          },
          "execution_count": 22
        }
      ]
    },
    {
      "cell_type": "code",
      "metadata": {
        "id": "9KEHD22t0LWa",
        "colab_type": "code",
        "colab": {
          "base_uri": "https://localhost:8080/",
          "height": 34
        },
        "outputId": "b4c7d42d-3712-4de9-cd26-339a7a8a60da"
      },
      "source": [
        "1251 * 0.8"
      ],
      "execution_count": 23,
      "outputs": [
        {
          "output_type": "execute_result",
          "data": {
            "text/plain": [
              "1000.8000000000001"
            ]
          },
          "metadata": {
            "tags": []
          },
          "execution_count": 23
        }
      ]
    },
    {
      "cell_type": "code",
      "metadata": {
        "id": "E5IwGxV90NMX",
        "colab_type": "code",
        "colab": {
          "base_uri": "https://localhost:8080/",
          "height": 85
        },
        "outputId": "2c9665f8-c982-4d06-9cc2-2c5004d49bf8"
      },
      "source": [
        "## Train test split\n",
        "X_train = df1.iloc[0:1000,0:7]\n",
        "X_test = df1.iloc[1000:,0:7]\n",
        "y_train =  df1['d8'][:1000]\n",
        "y_test  = df1['d8'][1000:]\n",
        "print(X_train.shape)\n",
        "print(y_train.shape)\n",
        "print(X_test.shape)\n",
        "print(y_test.shape)"
      ],
      "execution_count": 24,
      "outputs": [
        {
          "output_type": "stream",
          "text": [
            "(1000, 7)\n",
            "(1000,)\n",
            "(251, 7)\n",
            "(251,)\n"
          ],
          "name": "stdout"
        }
      ]
    },
    {
      "cell_type": "code",
      "metadata": {
        "id": "UOCPf-Yl0PaY",
        "colab_type": "code",
        "colab": {
          "base_uri": "https://localhost:8080/",
          "height": 297
        },
        "outputId": "de0a5703-9274-43b3-c014-7b0c12bf3459"
      },
      "source": [
        "## Sacling the data\n",
        "from sklearn.preprocessing import StandardScaler\n",
        "sc = StandardScaler()\n",
        "sc.fit(X_train)\n",
        "X_train_sc = pd.DataFrame(sc.transform(X_train),columns = X_train.columns)\n",
        "X_test_sc = pd.DataFrame(sc.transform(X_test),columns = X_train.columns)\n",
        "X_train_sc.describe()"
      ],
      "execution_count": 25,
      "outputs": [
        {
          "output_type": "execute_result",
          "data": {
            "text/html": [
              "<div>\n",
              "<style scoped>\n",
              "    .dataframe tbody tr th:only-of-type {\n",
              "        vertical-align: middle;\n",
              "    }\n",
              "\n",
              "    .dataframe tbody tr th {\n",
              "        vertical-align: top;\n",
              "    }\n",
              "\n",
              "    .dataframe thead th {\n",
              "        text-align: right;\n",
              "    }\n",
              "</style>\n",
              "<table border=\"1\" class=\"dataframe\">\n",
              "  <thead>\n",
              "    <tr style=\"text-align: right;\">\n",
              "      <th></th>\n",
              "      <th>d1</th>\n",
              "      <th>d2</th>\n",
              "      <th>d3</th>\n",
              "      <th>d4</th>\n",
              "      <th>d5</th>\n",
              "      <th>d6</th>\n",
              "      <th>d7</th>\n",
              "    </tr>\n",
              "  </thead>\n",
              "  <tbody>\n",
              "    <tr>\n",
              "      <th>count</th>\n",
              "      <td>1.000000e+03</td>\n",
              "      <td>1.000000e+03</td>\n",
              "      <td>1.000000e+03</td>\n",
              "      <td>1.000000e+03</td>\n",
              "      <td>1.000000e+03</td>\n",
              "      <td>1.000000e+03</td>\n",
              "      <td>1.000000e+03</td>\n",
              "    </tr>\n",
              "    <tr>\n",
              "      <th>mean</th>\n",
              "      <td>5.107026e-17</td>\n",
              "      <td>1.179057e-16</td>\n",
              "      <td>3.196332e-16</td>\n",
              "      <td>8.437695e-18</td>\n",
              "      <td>-2.058353e-16</td>\n",
              "      <td>6.408207e-16</td>\n",
              "      <td>3.573808e-16</td>\n",
              "    </tr>\n",
              "    <tr>\n",
              "      <th>std</th>\n",
              "      <td>1.000500e+00</td>\n",
              "      <td>1.000500e+00</td>\n",
              "      <td>1.000500e+00</td>\n",
              "      <td>1.000500e+00</td>\n",
              "      <td>1.000500e+00</td>\n",
              "      <td>1.000500e+00</td>\n",
              "      <td>1.000500e+00</td>\n",
              "    </tr>\n",
              "    <tr>\n",
              "      <th>min</th>\n",
              "      <td>-2.119798e+00</td>\n",
              "      <td>-2.125939e+00</td>\n",
              "      <td>-2.132307e+00</td>\n",
              "      <td>-2.138824e+00</td>\n",
              "      <td>-2.145197e+00</td>\n",
              "      <td>-2.151939e+00</td>\n",
              "      <td>-2.158392e+00</td>\n",
              "    </tr>\n",
              "    <tr>\n",
              "      <th>25%</th>\n",
              "      <td>-5.582080e-01</td>\n",
              "      <td>-5.486430e-01</td>\n",
              "      <td>-5.493180e-01</td>\n",
              "      <td>-5.516601e-01</td>\n",
              "      <td>-5.450605e-01</td>\n",
              "      <td>-5.350756e-01</td>\n",
              "      <td>-5.332242e-01</td>\n",
              "    </tr>\n",
              "    <tr>\n",
              "      <th>50%</th>\n",
              "      <td>2.659776e-01</td>\n",
              "      <td>2.649882e-01</td>\n",
              "      <td>2.640589e-01</td>\n",
              "      <td>2.640761e-01</td>\n",
              "      <td>2.641178e-01</td>\n",
              "      <td>2.631759e-01</td>\n",
              "      <td>2.621305e-01</td>\n",
              "    </tr>\n",
              "    <tr>\n",
              "      <th>75%</th>\n",
              "      <td>6.620601e-01</td>\n",
              "      <td>6.644832e-01</td>\n",
              "      <td>6.649275e-01</td>\n",
              "      <td>6.633158e-01</td>\n",
              "      <td>6.633343e-01</td>\n",
              "      <td>6.668651e-01</td>\n",
              "      <td>6.666995e-01</td>\n",
              "    </tr>\n",
              "    <tr>\n",
              "      <th>max</th>\n",
              "      <td>1.847059e+00</td>\n",
              "      <td>1.847165e+00</td>\n",
              "      <td>1.847513e+00</td>\n",
              "      <td>1.847976e+00</td>\n",
              "      <td>1.848369e+00</td>\n",
              "      <td>1.848914e+00</td>\n",
              "      <td>1.849089e+00</td>\n",
              "    </tr>\n",
              "  </tbody>\n",
              "</table>\n",
              "</div>"
            ],
            "text/plain": [
              "                 d1            d2  ...            d6            d7\n",
              "count  1.000000e+03  1.000000e+03  ...  1.000000e+03  1.000000e+03\n",
              "mean   5.107026e-17  1.179057e-16  ...  6.408207e-16  3.573808e-16\n",
              "std    1.000500e+00  1.000500e+00  ...  1.000500e+00  1.000500e+00\n",
              "min   -2.119798e+00 -2.125939e+00  ... -2.151939e+00 -2.158392e+00\n",
              "25%   -5.582080e-01 -5.486430e-01  ... -5.350756e-01 -5.332242e-01\n",
              "50%    2.659776e-01  2.649882e-01  ...  2.631759e-01  2.621305e-01\n",
              "75%    6.620601e-01  6.644832e-01  ...  6.668651e-01  6.666995e-01\n",
              "max    1.847059e+00  1.847165e+00  ...  1.848914e+00  1.849089e+00\n",
              "\n",
              "[8 rows x 7 columns]"
            ]
          },
          "metadata": {
            "tags": []
          },
          "execution_count": 25
        }
      ]
    },
    {
      "cell_type": "code",
      "metadata": {
        "id": "5QrK6mnA0Rsw",
        "colab_type": "code",
        "colab": {
          "base_uri": "https://localhost:8080/",
          "height": 238
        },
        "outputId": "43568f15-3275-41fe-8a16-62e272c6aa88"
      },
      "source": [
        "from keras.models import Sequential\n",
        "from keras.layers import Dense,Dropout,LSTM\n",
        "model = Sequential()\n",
        "# 256 cels\n",
        "model.add(LSTM(256,input_shape=(7,1)))\n",
        "# single neuron\n",
        "model.add(Dense(1))\n",
        "model.summary()"
      ],
      "execution_count": 26,
      "outputs": [
        {
          "output_type": "stream",
          "text": [
            "Using TensorFlow backend.\n"
          ],
          "name": "stderr"
        },
        {
          "output_type": "stream",
          "text": [
            "Model: \"sequential_1\"\n",
            "_________________________________________________________________\n",
            "Layer (type)                 Output Shape              Param #   \n",
            "=================================================================\n",
            "lstm_1 (LSTM)                (None, 256)               264192    \n",
            "_________________________________________________________________\n",
            "dense_1 (Dense)              (None, 1)                 257       \n",
            "=================================================================\n",
            "Total params: 264,449\n",
            "Trainable params: 264,449\n",
            "Non-trainable params: 0\n",
            "_________________________________________________________________\n"
          ],
          "name": "stdout"
        }
      ]
    },
    {
      "cell_type": "code",
      "metadata": {
        "id": "3smVO8Wn0T_8",
        "colab_type": "code",
        "colab": {}
      },
      "source": [
        "model.compile(optimizer='adam',loss='mse')"
      ],
      "execution_count": 27,
      "outputs": []
    },
    {
      "cell_type": "code",
      "metadata": {
        "id": "PLeSsjpF0WjO",
        "colab_type": "code",
        "colab": {
          "base_uri": "https://localhost:8080/",
          "height": 34
        },
        "outputId": "a6c77ee5-221d-430f-a115-7b05d035a510"
      },
      "source": [
        "X_test.shape"
      ],
      "execution_count": 28,
      "outputs": [
        {
          "output_type": "execute_result",
          "data": {
            "text/plain": [
              "(251, 7)"
            ]
          },
          "metadata": {
            "tags": []
          },
          "execution_count": 28
        }
      ]
    },
    {
      "cell_type": "code",
      "metadata": {
        "id": "HMy9BQbk0YO5",
        "colab_type": "code",
        "colab": {}
      },
      "source": [
        "# number of records , time steps,Features\n",
        "X_train_sc = X_train_sc.values.reshape(1000,7,1)\n",
        "X_test_sc = X_test_sc.values.reshape(251,7,1)"
      ],
      "execution_count": 29,
      "outputs": []
    },
    {
      "cell_type": "code",
      "metadata": {
        "id": "It2zxKXy0aCK",
        "colab_type": "code",
        "colab": {
          "base_uri": "https://localhost:8080/",
          "height": 1000
        },
        "outputId": "5e6b954a-8c48-4cdf-a3d2-f9a322763814"
      },
      "source": [
        "history = model.fit(X_train_sc,y_train,epochs=100,validation_data=(X_test_sc,y_test))"
      ],
      "execution_count": 30,
      "outputs": [
        {
          "output_type": "stream",
          "text": [
            "Train on 1000 samples, validate on 251 samples\n",
            "Epoch 1/100\n",
            "1000/1000 [==============================] - 2s 2ms/step - loss: 1024.7315 - val_loss: 623.2979\n",
            "Epoch 2/100\n",
            "1000/1000 [==============================] - 1s 1ms/step - loss: 224.8136 - val_loss: 286.3494\n",
            "Epoch 3/100\n",
            "1000/1000 [==============================] - 1s 1ms/step - loss: 119.7378 - val_loss: 186.8131\n",
            "Epoch 4/100\n",
            "1000/1000 [==============================] - 1s 1ms/step - loss: 112.9828 - val_loss: 164.1568\n",
            "Epoch 5/100\n",
            "1000/1000 [==============================] - 1s 1ms/step - loss: 99.9312 - val_loss: 152.4846\n",
            "Epoch 6/100\n",
            "1000/1000 [==============================] - 1s 1ms/step - loss: 34.3728 - val_loss: 89.5308\n",
            "Epoch 7/100\n",
            "1000/1000 [==============================] - 1s 1ms/step - loss: 19.9641 - val_loss: 59.2072\n",
            "Epoch 8/100\n",
            "1000/1000 [==============================] - 1s 1ms/step - loss: 12.8686 - val_loss: 37.7305\n",
            "Epoch 9/100\n",
            "1000/1000 [==============================] - 1s 1ms/step - loss: 9.1672 - val_loss: 29.0656\n",
            "Epoch 10/100\n",
            "1000/1000 [==============================] - 1s 1ms/step - loss: 7.3791 - val_loss: 22.2183\n",
            "Epoch 11/100\n",
            "1000/1000 [==============================] - 1s 1ms/step - loss: 6.3992 - val_loss: 16.4094\n",
            "Epoch 12/100\n",
            "1000/1000 [==============================] - 1s 1ms/step - loss: 5.6910 - val_loss: 13.8321\n",
            "Epoch 13/100\n",
            "1000/1000 [==============================] - 1s 1ms/step - loss: 5.2890 - val_loss: 11.5190\n",
            "Epoch 14/100\n",
            "1000/1000 [==============================] - 1s 1ms/step - loss: 4.9667 - val_loss: 10.6488\n",
            "Epoch 15/100\n",
            "1000/1000 [==============================] - 1s 1ms/step - loss: 4.6190 - val_loss: 9.3123\n",
            "Epoch 16/100\n",
            "1000/1000 [==============================] - 1s 1ms/step - loss: 4.6746 - val_loss: 8.2980\n",
            "Epoch 17/100\n",
            "1000/1000 [==============================] - 1s 1ms/step - loss: 4.4639 - val_loss: 9.3901\n",
            "Epoch 18/100\n",
            "1000/1000 [==============================] - 1s 1ms/step - loss: 4.3856 - val_loss: 8.3260\n",
            "Epoch 19/100\n",
            "1000/1000 [==============================] - 1s 1ms/step - loss: 4.4118 - val_loss: 7.2033\n",
            "Epoch 20/100\n",
            "1000/1000 [==============================] - 1s 1ms/step - loss: 4.8153 - val_loss: 8.2267\n",
            "Epoch 21/100\n",
            "1000/1000 [==============================] - 1s 1ms/step - loss: 4.4903 - val_loss: 7.5617\n",
            "Epoch 22/100\n",
            "1000/1000 [==============================] - 1s 1ms/step - loss: 4.1616 - val_loss: 7.7650\n",
            "Epoch 23/100\n",
            "1000/1000 [==============================] - 1s 1ms/step - loss: 4.1271 - val_loss: 6.1314\n",
            "Epoch 24/100\n",
            "1000/1000 [==============================] - 1s 1ms/step - loss: 4.0483 - val_loss: 6.1235\n",
            "Epoch 25/100\n",
            "1000/1000 [==============================] - 1s 1ms/step - loss: 4.1736 - val_loss: 5.9840\n",
            "Epoch 26/100\n",
            "1000/1000 [==============================] - 1s 1ms/step - loss: 4.0691 - val_loss: 6.5747\n",
            "Epoch 27/100\n",
            "1000/1000 [==============================] - 1s 1ms/step - loss: 4.1077 - val_loss: 5.8708\n",
            "Epoch 28/100\n",
            "1000/1000 [==============================] - 1s 1ms/step - loss: 4.0456 - val_loss: 5.8997\n",
            "Epoch 29/100\n",
            "1000/1000 [==============================] - 1s 1ms/step - loss: 4.0940 - val_loss: 8.2356\n",
            "Epoch 30/100\n",
            "1000/1000 [==============================] - 1s 1ms/step - loss: 4.1109 - val_loss: 6.2084\n",
            "Epoch 31/100\n",
            "1000/1000 [==============================] - 1s 1ms/step - loss: 3.9973 - val_loss: 5.5127\n",
            "Epoch 32/100\n",
            "1000/1000 [==============================] - 1s 1ms/step - loss: 4.0963 - val_loss: 5.3188\n",
            "Epoch 33/100\n",
            "1000/1000 [==============================] - 1s 1ms/step - loss: 3.8699 - val_loss: 5.2446\n",
            "Epoch 34/100\n",
            "1000/1000 [==============================] - 1s 1ms/step - loss: 3.8990 - val_loss: 5.1619\n",
            "Epoch 35/100\n",
            "1000/1000 [==============================] - 1s 1ms/step - loss: 3.7830 - val_loss: 5.1931\n",
            "Epoch 36/100\n",
            "1000/1000 [==============================] - 1s 1ms/step - loss: 3.7906 - val_loss: 5.1830\n",
            "Epoch 37/100\n",
            "1000/1000 [==============================] - 1s 1ms/step - loss: 3.9136 - val_loss: 4.8835\n",
            "Epoch 38/100\n",
            "1000/1000 [==============================] - 1s 1ms/step - loss: 4.0066 - val_loss: 7.0116\n",
            "Epoch 39/100\n",
            "1000/1000 [==============================] - 1s 1ms/step - loss: 4.2316 - val_loss: 5.2258\n",
            "Epoch 40/100\n",
            "1000/1000 [==============================] - 1s 1ms/step - loss: 3.7906 - val_loss: 4.9474\n",
            "Epoch 41/100\n",
            "1000/1000 [==============================] - 1s 1ms/step - loss: 3.8818 - val_loss: 4.8876\n",
            "Epoch 42/100\n",
            "1000/1000 [==============================] - 1s 1ms/step - loss: 3.6078 - val_loss: 4.7637\n",
            "Epoch 43/100\n",
            "1000/1000 [==============================] - 1s 1ms/step - loss: 3.6384 - val_loss: 5.3341\n",
            "Epoch 44/100\n",
            "1000/1000 [==============================] - 1s 1ms/step - loss: 3.6780 - val_loss: 4.8011\n",
            "Epoch 45/100\n",
            "1000/1000 [==============================] - 1s 1ms/step - loss: 3.3705 - val_loss: 4.7276\n",
            "Epoch 46/100\n",
            "1000/1000 [==============================] - 1s 1ms/step - loss: 3.3527 - val_loss: 4.5490\n",
            "Epoch 47/100\n",
            "1000/1000 [==============================] - 1s 1ms/step - loss: 3.3443 - val_loss: 4.5207\n",
            "Epoch 48/100\n",
            "1000/1000 [==============================] - 1s 1ms/step - loss: 3.5449 - val_loss: 5.7278\n",
            "Epoch 49/100\n",
            "1000/1000 [==============================] - 1s 1ms/step - loss: 3.2289 - val_loss: 4.3558\n",
            "Epoch 50/100\n",
            "1000/1000 [==============================] - 1s 1ms/step - loss: 3.0802 - val_loss: 4.4160\n",
            "Epoch 51/100\n",
            "1000/1000 [==============================] - 1s 1ms/step - loss: 2.8768 - val_loss: 4.2367\n",
            "Epoch 52/100\n",
            "1000/1000 [==============================] - 1s 1ms/step - loss: 2.9247 - val_loss: 3.8664\n",
            "Epoch 53/100\n",
            "1000/1000 [==============================] - 1s 1ms/step - loss: 2.7969 - val_loss: 4.1277\n",
            "Epoch 54/100\n",
            "1000/1000 [==============================] - 1s 1ms/step - loss: 2.4800 - val_loss: 5.3691\n",
            "Epoch 55/100\n",
            "1000/1000 [==============================] - 1s 1ms/step - loss: 2.6163 - val_loss: 4.8237\n",
            "Epoch 56/100\n",
            "1000/1000 [==============================] - 1s 1ms/step - loss: 2.2860 - val_loss: 3.4815\n",
            "Epoch 57/100\n",
            "1000/1000 [==============================] - 1s 1ms/step - loss: 2.2007 - val_loss: 3.5711\n",
            "Epoch 58/100\n",
            "1000/1000 [==============================] - 1s 1ms/step - loss: 2.2291 - val_loss: 3.8322\n",
            "Epoch 59/100\n",
            "1000/1000 [==============================] - 1s 1ms/step - loss: 2.7821 - val_loss: 3.2136\n",
            "Epoch 60/100\n",
            "1000/1000 [==============================] - 1s 1ms/step - loss: 2.0679 - val_loss: 3.5271\n",
            "Epoch 61/100\n",
            "1000/1000 [==============================] - 1s 1ms/step - loss: 2.0823 - val_loss: 2.7837\n",
            "Epoch 62/100\n",
            "1000/1000 [==============================] - 1s 1ms/step - loss: 2.1783 - val_loss: 2.7683\n",
            "Epoch 63/100\n",
            "1000/1000 [==============================] - 1s 1ms/step - loss: 1.9960 - val_loss: 2.7226\n",
            "Epoch 64/100\n",
            "1000/1000 [==============================] - 1s 1ms/step - loss: 1.8959 - val_loss: 3.2722\n",
            "Epoch 65/100\n",
            "1000/1000 [==============================] - 1s 1ms/step - loss: 1.9837 - val_loss: 3.3658\n",
            "Epoch 66/100\n",
            "1000/1000 [==============================] - 1s 1ms/step - loss: 1.9426 - val_loss: 2.5634\n",
            "Epoch 67/100\n",
            "1000/1000 [==============================] - 1s 1ms/step - loss: 2.0216 - val_loss: 3.5813\n",
            "Epoch 68/100\n",
            "1000/1000 [==============================] - 1s 1ms/step - loss: 1.9262 - val_loss: 2.3764\n",
            "Epoch 69/100\n",
            "1000/1000 [==============================] - 1s 1ms/step - loss: 2.0985 - val_loss: 2.5300\n",
            "Epoch 70/100\n",
            "1000/1000 [==============================] - 1s 1ms/step - loss: 1.8242 - val_loss: 2.8079\n",
            "Epoch 71/100\n",
            "1000/1000 [==============================] - 1s 1ms/step - loss: 1.9389 - val_loss: 2.2652\n",
            "Epoch 72/100\n",
            "1000/1000 [==============================] - 1s 1ms/step - loss: 1.7656 - val_loss: 2.5504\n",
            "Epoch 73/100\n",
            "1000/1000 [==============================] - 1s 1ms/step - loss: 1.8563 - val_loss: 3.0661\n",
            "Epoch 74/100\n",
            "1000/1000 [==============================] - 1s 1ms/step - loss: 1.8261 - val_loss: 2.1273\n",
            "Epoch 75/100\n",
            "1000/1000 [==============================] - 1s 1ms/step - loss: 1.6301 - val_loss: 2.3299\n",
            "Epoch 76/100\n",
            "1000/1000 [==============================] - 1s 1ms/step - loss: 1.6417 - val_loss: 2.7611\n",
            "Epoch 77/100\n",
            "1000/1000 [==============================] - 1s 1ms/step - loss: 1.8106 - val_loss: 4.7845\n",
            "Epoch 78/100\n",
            "1000/1000 [==============================] - 1s 1ms/step - loss: 2.0517 - val_loss: 2.3627\n",
            "Epoch 79/100\n",
            "1000/1000 [==============================] - 1s 1ms/step - loss: 1.8054 - val_loss: 2.0275\n",
            "Epoch 80/100\n",
            "1000/1000 [==============================] - 1s 1ms/step - loss: 1.5732 - val_loss: 3.0528\n",
            "Epoch 81/100\n",
            "1000/1000 [==============================] - 1s 1ms/step - loss: 1.5769 - val_loss: 2.1345\n",
            "Epoch 82/100\n",
            "1000/1000 [==============================] - 1s 1ms/step - loss: 1.6088 - val_loss: 2.5266\n",
            "Epoch 83/100\n",
            "1000/1000 [==============================] - 1s 1ms/step - loss: 1.5660 - val_loss: 1.8229\n",
            "Epoch 84/100\n",
            "1000/1000 [==============================] - 1s 1ms/step - loss: 1.5041 - val_loss: 1.7785\n",
            "Epoch 85/100\n",
            "1000/1000 [==============================] - 1s 1ms/step - loss: 1.5256 - val_loss: 1.7852\n",
            "Epoch 86/100\n",
            "1000/1000 [==============================] - 1s 1ms/step - loss: 1.6590 - val_loss: 2.0909\n",
            "Epoch 87/100\n",
            "1000/1000 [==============================] - 1s 1ms/step - loss: 1.4152 - val_loss: 1.8484\n",
            "Epoch 88/100\n",
            "1000/1000 [==============================] - 1s 1ms/step - loss: 1.6491 - val_loss: 1.6986\n",
            "Epoch 89/100\n",
            "1000/1000 [==============================] - 1s 1ms/step - loss: 1.4241 - val_loss: 1.8810\n",
            "Epoch 90/100\n",
            "1000/1000 [==============================] - 1s 1ms/step - loss: 1.4548 - val_loss: 2.4173\n",
            "Epoch 91/100\n",
            "1000/1000 [==============================] - 1s 1ms/step - loss: 1.5991 - val_loss: 1.9025\n",
            "Epoch 92/100\n",
            "1000/1000 [==============================] - 1s 1ms/step - loss: 1.5033 - val_loss: 1.6607\n",
            "Epoch 93/100\n",
            "1000/1000 [==============================] - 1s 1ms/step - loss: 1.4178 - val_loss: 1.7651\n",
            "Epoch 94/100\n",
            "1000/1000 [==============================] - 1s 1ms/step - loss: 1.5992 - val_loss: 2.3377\n",
            "Epoch 95/100\n",
            "1000/1000 [==============================] - 1s 1ms/step - loss: 1.5748 - val_loss: 2.3591\n",
            "Epoch 96/100\n",
            "1000/1000 [==============================] - 1s 1ms/step - loss: 1.4286 - val_loss: 1.5738\n",
            "Epoch 97/100\n",
            "1000/1000 [==============================] - 1s 1ms/step - loss: 1.2705 - val_loss: 1.5188\n",
            "Epoch 98/100\n",
            "1000/1000 [==============================] - 1s 1ms/step - loss: 1.3528 - val_loss: 1.5070\n",
            "Epoch 99/100\n",
            "1000/1000 [==============================] - 1s 1ms/step - loss: 1.3357 - val_loss: 1.6341\n",
            "Epoch 100/100\n",
            "1000/1000 [==============================] - 1s 1ms/step - loss: 1.2889 - val_loss: 1.7845\n"
          ],
          "name": "stdout"
        }
      ]
    },
    {
      "cell_type": "code",
      "metadata": {
        "id": "j2WSsRMV0dCw",
        "colab_type": "code",
        "colab": {
          "base_uri": "https://localhost:8080/",
          "height": 282
        },
        "outputId": "8743f1be-9965-40b6-d478-9cb6bfebd7df"
      },
      "source": [
        "tr_loss = history.history['loss']\n",
        "val_loss = history.history['val_loss']\n",
        "ep = list(range(1,101))\n",
        "plt.plot(ep,tr_loss,color='r')\n",
        "plt.plot(ep,val_loss,color='b')"
      ],
      "execution_count": 31,
      "outputs": [
        {
          "output_type": "execute_result",
          "data": {
            "text/plain": [
              "[<matplotlib.lines.Line2D at 0x7f9e43ac0b00>]"
            ]
          },
          "metadata": {
            "tags": []
          },
          "execution_count": 31
        },
        {
          "output_type": "display_data",
          "data": {
            "image/png": "[encoded data removed]",
            "text/plain": [
              "<Figure size 432x288 with 1 Axes>"
            ]
          },
          "metadata": {
            "tags": [],
            "needs_background": "light"
          }
        }
      ]
    },
    {
      "cell_type": "code",
      "metadata": {
        "id": "YbZb8h-M0krX",
        "colab_type": "code",
        "colab": {
          "base_uri": "https://localhost:8080/",
          "height": 1000
        },
        "outputId": "d6d76505-4472-494f-c59e-5b3ed4ad8900"
      },
      "source": [
        "model.predict(X_test_sc)"
      ],
      "execution_count": 32,
      "outputs": [
        {
          "output_type": "execute_result",
          "data": {
            "text/plain": [
              "array([[44.792397],\n",
              "       [45.01313 ],\n",
              "       [45.45034 ],\n",
              "       [45.85778 ],\n",
              "       [46.548916],\n",
              "       [46.629875],\n",
              "       [46.95606 ],\n",
              "       [46.849148],\n",
              "       [46.821663],\n",
              "       [46.66033 ],\n",
              "       [46.377647],\n",
              "       [46.10752 ],\n",
              "       [45.961437],\n",
              "       [45.964226],\n",
              "       [46.049065],\n",
              "       [46.38186 ],\n",
              "       [46.121513],\n",
              "       [46.293846],\n",
              "       [45.737793],\n",
              "       [45.26641 ],\n",
              "       [44.771748],\n",
              "       [43.962784],\n",
              "       [43.662933],\n",
              "       [42.87991 ],\n",
              "       [42.010044],\n",
              "       [41.56279 ],\n",
              "       [41.601913],\n",
              "       [41.739388],\n",
              "       [41.688755],\n",
              "       [41.105015],\n",
              "       [40.531975],\n",
              "       [40.580444],\n",
              "       [41.11586 ],\n",
              "       [41.572403],\n",
              "       [42.048603],\n",
              "       [42.133644],\n",
              "       [42.27996 ],\n",
              "       [42.24606 ],\n",
              "       [42.310303],\n",
              "       [41.711975],\n",
              "       [41.2828  ],\n",
              "       [41.19506 ],\n",
              "       [41.46917 ],\n",
              "       [41.874718],\n",
              "       [42.7582  ],\n",
              "       [43.51413 ],\n",
              "       [43.682842],\n",
              "       [43.822777],\n",
              "       [43.760674],\n",
              "       [43.990944],\n",
              "       [44.440704],\n",
              "       [44.835815],\n",
              "       [45.52349 ],\n",
              "       [46.020134],\n",
              "       [46.28899 ],\n",
              "       [45.3804  ],\n",
              "       [43.9441  ],\n",
              "       [42.474186],\n",
              "       [42.40734 ],\n",
              "       [43.028908],\n",
              "       [43.69256 ],\n",
              "       [44.084637],\n",
              "       [44.44165 ],\n",
              "       [45.506042],\n",
              "       [46.417664],\n",
              "       [46.729324],\n",
              "       [46.357452],\n",
              "       [46.210068],\n",
              "       [46.281967],\n",
              "       [45.765278],\n",
              "       [45.158916],\n",
              "       [44.73971 ],\n",
              "       [45.11127 ],\n",
              "       [45.806812],\n",
              "       [46.35183 ],\n",
              "       [47.021206],\n",
              "       [47.679047],\n",
              "       [47.88875 ],\n",
              "       [48.058895],\n",
              "       [48.24057 ],\n",
              "       [48.610374],\n",
              "       [48.97986 ],\n",
              "       [49.192245],\n",
              "       [49.65059 ],\n",
              "       [50.10609 ],\n",
              "       [50.088753],\n",
              "       [49.75438 ],\n",
              "       [49.30861 ],\n",
              "       [48.943924],\n",
              "       [48.7032  ],\n",
              "       [48.527153],\n",
              "       [48.75107 ],\n",
              "       [48.320427],\n",
              "       [48.228153],\n",
              "       [48.188324],\n",
              "       [48.199074],\n",
              "       [48.342854],\n",
              "       [48.251762],\n",
              "       [48.473694],\n",
              "       [48.733383],\n",
              "       [49.236702],\n",
              "       [49.58171 ],\n",
              "       [50.069397],\n",
              "       [50.575737],\n",
              "       [51.222027],\n",
              "       [51.51052 ],\n",
              "       [51.356125],\n",
              "       [51.802135],\n",
              "       [51.975136],\n",
              "       [52.37589 ],\n",
              "       [52.5054  ],\n",
              "       [52.33058 ],\n",
              "       [52.00066 ],\n",
              "       [51.581474],\n",
              "       [51.198685],\n",
              "       [50.77841 ],\n",
              "       [50.33581 ],\n",
              "       [50.185837],\n",
              "       [49.75872 ],\n",
              "       [49.74562 ],\n",
              "       [49.69687 ],\n",
              "       [49.96639 ],\n",
              "       [49.960766],\n",
              "       [49.999416],\n",
              "       [50.02996 ],\n",
              "       [49.971924],\n",
              "       [49.78003 ],\n",
              "       [49.394295],\n",
              "       [48.786255],\n",
              "       [48.261444],\n",
              "       [48.09465 ],\n",
              "       [48.038475],\n",
              "       [48.090668],\n",
              "       [47.182106],\n",
              "       [46.247986],\n",
              "       [45.437996],\n",
              "       [45.050987],\n",
              "       [44.512657],\n",
              "       [43.650364],\n",
              "       [43.826813],\n",
              "       [44.222324],\n",
              "       [44.622803],\n",
              "       [44.48135 ],\n",
              "       [44.42206 ],\n",
              "       [44.658234],\n",
              "       [44.422935],\n",
              "       [44.276546],\n",
              "       [43.87727 ],\n",
              "       [43.63584 ],\n",
              "       [44.32888 ],\n",
              "       [45.24555 ],\n",
              "       [46.23588 ],\n",
              "       [46.3686  ],\n",
              "       [46.198166],\n",
              "       [45.638363],\n",
              "       [44.89634 ],\n",
              "       [44.762047],\n",
              "       [45.17904 ],\n",
              "       [46.058475],\n",
              "       [46.86034 ],\n",
              "       [47.246353],\n",
              "       [47.11165 ],\n",
              "       [47.094784],\n",
              "       [47.0499  ],\n",
              "       [47.237465],\n",
              "       [48.355038],\n",
              "       [49.24878 ],\n",
              "       [49.87501 ],\n",
              "       [50.283867],\n",
              "       [50.19426 ],\n",
              "       [50.932922],\n",
              "       [51.265587],\n",
              "       [51.59453 ],\n",
              "       [51.70803 ],\n",
              "       [51.534416],\n",
              "       [51.35366 ],\n",
              "       [51.150818],\n",
              "       [50.905403],\n",
              "       [50.90841 ],\n",
              "       [50.5877  ],\n",
              "       [50.759247],\n",
              "       [50.516098],\n",
              "       [49.619   ],\n",
              "       [48.508575],\n",
              "       [47.33122 ],\n",
              "       [46.529537],\n",
              "       [46.637573],\n",
              "       [46.86474 ],\n",
              "       [47.163193],\n",
              "       [47.19046 ],\n",
              "       [46.805817],\n",
              "       [46.458397],\n",
              "       [45.900093],\n",
              "       [45.638393],\n",
              "       [45.47426 ],\n",
              "       [45.497185],\n",
              "       [46.071804],\n",
              "       [46.733994],\n",
              "       [47.142883],\n",
              "       [47.356865],\n",
              "       [47.72236 ],\n",
              "       [48.02549 ],\n",
              "       [48.230293],\n",
              "       [48.2107  ],\n",
              "       [48.41688 ],\n",
              "       [48.5789  ],\n",
              "       [49.19447 ],\n",
              "       [49.06119 ],\n",
              "       [49.30111 ],\n",
              "       [49.094547],\n",
              "       [49.11068 ],\n",
              "       [49.532852],\n",
              "       [49.888927],\n",
              "       [50.32625 ],\n",
              "       [50.234043],\n",
              "       [49.98529 ],\n",
              "       [49.73671 ],\n",
              "       [49.85235 ],\n",
              "       [50.196583],\n",
              "       [50.501404],\n",
              "       [50.82879 ],\n",
              "       [51.22208 ],\n",
              "       [51.414417],\n",
              "       [51.6411  ],\n",
              "       [51.5763  ],\n",
              "       [51.529972],\n",
              "       [51.31255 ],\n",
              "       [51.470367],\n",
              "       [51.38932 ],\n",
              "       [51.51335 ],\n",
              "       [51.54509 ],\n",
              "       [51.39193 ],\n",
              "       [51.28712 ],\n",
              "       [51.67947 ],\n",
              "       [52.71596 ],\n",
              "       [53.88852 ],\n",
              "       [54.452385],\n",
              "       [54.787796],\n",
              "       [54.922928],\n",
              "       [54.89549 ],\n",
              "       [54.865253],\n",
              "       [54.87718 ],\n",
              "       [54.08641 ],\n",
              "       [53.10815 ],\n",
              "       [52.358196],\n",
              "       [51.559708],\n",
              "       [51.139893],\n",
              "       [51.70592 ],\n",
              "       [52.155045],\n",
              "       [51.907448],\n",
              "       [50.892403]], dtype=float32)"
            ]
          },
          "metadata": {
            "tags": []
          },
          "execution_count": 32
        }
      ]
    },
    {
      "cell_type": "code",
      "metadata": {
        "id": "CCZBGulq0po1",
        "colab_type": "code",
        "colab": {
          "base_uri": "https://localhost:8080/",
          "height": 282
        },
        "outputId": "032c9c0b-c106-4a4a-9bf0-27cfe9f682a5"
      },
      "source": [
        "plt.plot(range(len(X_test_sc)),model.predict(X_test_sc).flat)\n",
        "plt.plot(range(len(X_test_sc)),y_test)"
      ],
      "execution_count": 33,
      "outputs": [
        {
          "output_type": "execute_result",
          "data": {
            "text/plain": [
              "[<matplotlib.lines.Line2D at 0x7f9e42d0acf8>]"
            ]
          },
          "metadata": {
            "tags": []
          },
          "execution_count": 33
        },
        {
          "output_type": "display_data",
          "data": {
            "image/png": "[encoded data removed]",
            "text/plain": [
              "<Figure size 432x288 with 1 Axes>"
            ]
          },
          "metadata": {
            "tags": [],
            "needs_background": "light"
          }
        }
      ]
    },
    {
      "cell_type": "code",
      "metadata": {
        "id": "4doROdfJ0tMP",
        "colab_type": "code",
        "colab": {
          "base_uri": "https://localhost:8080/",
          "height": 136
        },
        "outputId": "3ba7bb81-aea5-4cee-97ea-53a365041741"
      },
      "source": [
        "X_test_sc[0].reshape(1,7,1)"
      ],
      "execution_count": 34,
      "outputs": [
        {
          "output_type": "execute_result",
          "data": {
            "text/plain": [
              "array([[[0.83910218],\n",
              "        [0.77719701],\n",
              "        [0.75711333],\n",
              "        [0.75193205],\n",
              "        [0.7682191 ],\n",
              "        [0.86976278],\n",
              "        [0.85612661]]])"
            ]
          },
          "metadata": {
            "tags": []
          },
          "execution_count": 34
        }
      ]
    },
    {
      "cell_type": "code",
      "metadata": {
        "id": "RbJfaLPW0yff",
        "colab_type": "code",
        "colab": {
          "base_uri": "https://localhost:8080/",
          "height": 34
        },
        "outputId": "9c77f0ba-f914-496b-866e-83364fee1e11"
      },
      "source": [
        "model.predict(X_test_sc[0].reshape(1,7,1))"
      ],
      "execution_count": 35,
      "outputs": [
        {
          "output_type": "execute_result",
          "data": {
            "text/plain": [
              "array([[44.792404]], dtype=float32)"
            ]
          },
          "metadata": {
            "tags": []
          },
          "execution_count": 35
        }
      ]
    },
    {
      "cell_type": "code",
      "metadata": {
        "id": "PXqIN71r00vf",
        "colab_type": "code",
        "colab": {
          "base_uri": "https://localhost:8080/",
          "height": 34
        },
        "outputId": "85c0a66c-5e09-4f1e-adfd-16d1ecef2bd8"
      },
      "source": [
        "y_test[1000]"
      ],
      "execution_count": 36,
      "outputs": [
        {
          "output_type": "execute_result",
          "data": {
            "text/plain": [
              "45.06"
            ]
          },
          "metadata": {
            "tags": []
          },
          "execution_count": 36
        }
      ]
    },
    {
      "cell_type": "code",
      "metadata": {
        "id": "VPLbpUSn03av",
        "colab_type": "code",
        "colab": {
          "base_uri": "https://localhost:8080/",
          "height": 255
        },
        "outputId": "d801bae1-46d6-49ed-968e-f76b94d67b37"
      },
      "source": [
        "from keras.models import Sequential\n",
        "from keras.layers import Dense,Dropout,LSTM\n",
        "model2 = Sequential()\n",
        "# 256 cels\n",
        "model2.add(LSTM(256,input_shape=(7,1)))\n",
        "model2.add(Dropout(0.3))\n",
        "# single neuron\n",
        "model2.add(Dense(1))\n",
        "model2.summary()"
      ],
      "execution_count": 37,
      "outputs": [
        {
          "output_type": "stream",
          "text": [
            "Model: \"sequential_2\"\n",
            "_________________________________________________________________\n",
            "Layer (type)                 Output Shape              Param #   \n",
            "=================================================================\n",
            "lstm_2 (LSTM)                (None, 256)               264192    \n",
            "_________________________________________________________________\n",
            "dropout_1 (Dropout)          (None, 256)               0         \n",
            "_________________________________________________________________\n",
            "dense_2 (Dense)              (None, 1)                 257       \n",
            "=================================================================\n",
            "Total params: 264,449\n",
            "Trainable params: 264,449\n",
            "Non-trainable params: 0\n",
            "_________________________________________________________________\n"
          ],
          "name": "stdout"
        }
      ]
    },
    {
      "cell_type": "code",
      "metadata": {
        "id": "jGE4Rwi306g2",
        "colab_type": "code",
        "colab": {}
      },
      "source": [
        "model2.compile(optimizer='adam',loss='mse')"
      ],
      "execution_count": 38,
      "outputs": []
    },
    {
      "cell_type": "code",
      "metadata": {
        "id": "1gTo3SRM07T3",
        "colab_type": "code",
        "colab": {
          "base_uri": "https://localhost:8080/",
          "height": 1000
        },
        "outputId": "ffeddcf0-4333-4633-d1ae-d80a2cb15d9b"
      },
      "source": [
        "history2 = model2.fit(X_train_sc,y_train,epochs=100,validation_data=(X_test_sc,y_test))"
      ],
      "execution_count": 39,
      "outputs": [
        {
          "output_type": "stream",
          "text": [
            "Train on 1000 samples, validate on 251 samples\n",
            "Epoch 1/100\n",
            "1000/1000 [==============================] - 2s 2ms/step - loss: 1019.5044 - val_loss: 628.5455\n",
            "Epoch 2/100\n",
            "1000/1000 [==============================] - 1s 1ms/step - loss: 244.3083 - val_loss: 289.2481\n",
            "Epoch 3/100\n",
            "1000/1000 [==============================] - 1s 1ms/step - loss: 121.3848 - val_loss: 186.9485\n",
            "Epoch 4/100\n",
            "1000/1000 [==============================] - 1s 1ms/step - loss: 116.3262 - val_loss: 165.4614\n",
            "Epoch 5/100\n",
            "1000/1000 [==============================] - 1s 1ms/step - loss: 111.9170 - val_loss: 160.9292\n",
            "Epoch 6/100\n",
            "1000/1000 [==============================] - 1s 1ms/step - loss: 51.5893 - val_loss: 107.0813\n",
            "Epoch 7/100\n",
            "1000/1000 [==============================] - 1s 1ms/step - loss: 26.5675 - val_loss: 70.6774\n",
            "Epoch 8/100\n",
            "1000/1000 [==============================] - 1s 1ms/step - loss: 18.2893 - val_loss: 49.9019\n",
            "Epoch 9/100\n",
            "1000/1000 [==============================] - 1s 1ms/step - loss: 13.3551 - val_loss: 34.4476\n",
            "Epoch 10/100\n",
            "1000/1000 [==============================] - 1s 1ms/step - loss: 10.7884 - val_loss: 25.4025\n",
            "Epoch 11/100\n",
            "1000/1000 [==============================] - 1s 1ms/step - loss: 10.1547 - val_loss: 21.1721\n",
            "Epoch 12/100\n",
            "1000/1000 [==============================] - 1s 1ms/step - loss: 9.3904 - val_loss: 17.6246\n",
            "Epoch 13/100\n",
            "1000/1000 [==============================] - 1s 1ms/step - loss: 9.4814 - val_loss: 16.3291\n",
            "Epoch 14/100\n",
            "1000/1000 [==============================] - 1s 1ms/step - loss: 9.1246 - val_loss: 12.2196\n",
            "Epoch 15/100\n",
            "1000/1000 [==============================] - 1s 1ms/step - loss: 8.5775 - val_loss: 11.8407\n",
            "Epoch 16/100\n",
            "1000/1000 [==============================] - 1s 1ms/step - loss: 8.0987 - val_loss: 10.2946\n",
            "Epoch 17/100\n",
            "1000/1000 [==============================] - 1s 1ms/step - loss: 8.9151 - val_loss: 12.7842\n",
            "Epoch 18/100\n",
            "1000/1000 [==============================] - 1s 1ms/step - loss: 8.2514 - val_loss: 8.4182\n",
            "Epoch 19/100\n",
            "1000/1000 [==============================] - 1s 1ms/step - loss: 7.9563 - val_loss: 8.1658\n",
            "Epoch 20/100\n",
            "1000/1000 [==============================] - 1s 1ms/step - loss: 7.5928 - val_loss: 7.5923\n",
            "Epoch 21/100\n",
            "1000/1000 [==============================] - 1s 1ms/step - loss: 7.6509 - val_loss: 7.3808\n",
            "Epoch 22/100\n",
            "1000/1000 [==============================] - 1s 1ms/step - loss: 8.1871 - val_loss: 7.4061\n",
            "Epoch 23/100\n",
            "1000/1000 [==============================] - 1s 1ms/step - loss: 7.5241 - val_loss: 7.7765\n",
            "Epoch 24/100\n",
            "1000/1000 [==============================] - 1s 1ms/step - loss: 7.6084 - val_loss: 8.3344\n",
            "Epoch 25/100\n",
            "1000/1000 [==============================] - 1s 1ms/step - loss: 7.4539 - val_loss: 6.2811\n",
            "Epoch 26/100\n",
            "1000/1000 [==============================] - 1s 1ms/step - loss: 7.9865 - val_loss: 6.4220\n",
            "Epoch 27/100\n",
            "1000/1000 [==============================] - 1s 1ms/step - loss: 7.9762 - val_loss: 6.2217\n",
            "Epoch 28/100\n",
            "1000/1000 [==============================] - 1s 1ms/step - loss: 7.4270 - val_loss: 6.5864\n",
            "Epoch 29/100\n",
            "1000/1000 [==============================] - 1s 1ms/step - loss: 7.1155 - val_loss: 6.4316\n",
            "Epoch 30/100\n",
            "1000/1000 [==============================] - 1s 1ms/step - loss: 6.9342 - val_loss: 13.4754\n",
            "Epoch 31/100\n",
            "1000/1000 [==============================] - 1s 1ms/step - loss: 7.6506 - val_loss: 5.9687\n",
            "Epoch 32/100\n",
            "1000/1000 [==============================] - 1s 1ms/step - loss: 7.5722 - val_loss: 6.3677\n",
            "Epoch 33/100\n",
            "1000/1000 [==============================] - 1s 1ms/step - loss: 7.4469 - val_loss: 7.8170\n",
            "Epoch 34/100\n",
            "1000/1000 [==============================] - 1s 1ms/step - loss: 6.9768 - val_loss: 5.7806\n",
            "Epoch 35/100\n",
            "1000/1000 [==============================] - 1s 1ms/step - loss: 7.3880 - val_loss: 5.6356\n",
            "Epoch 36/100\n",
            "1000/1000 [==============================] - 1s 1ms/step - loss: 7.1838 - val_loss: 7.6841\n",
            "Epoch 37/100\n",
            "1000/1000 [==============================] - 1s 1ms/step - loss: 7.1656 - val_loss: 5.7766\n",
            "Epoch 38/100\n",
            "1000/1000 [==============================] - 1s 1ms/step - loss: 7.7706 - val_loss: 6.0850\n",
            "Epoch 39/100\n",
            "1000/1000 [==============================] - 1s 1ms/step - loss: 6.8956 - val_loss: 5.4987\n",
            "Epoch 40/100\n",
            "1000/1000 [==============================] - 1s 1ms/step - loss: 6.2451 - val_loss: 6.7577\n",
            "Epoch 41/100\n",
            "1000/1000 [==============================] - 1s 1ms/step - loss: 6.8822 - val_loss: 5.4832\n",
            "Epoch 42/100\n",
            "1000/1000 [==============================] - 1s 1ms/step - loss: 7.0403 - val_loss: 6.9839\n",
            "Epoch 43/100\n",
            "1000/1000 [==============================] - 1s 1ms/step - loss: 7.5732 - val_loss: 5.5141\n",
            "Epoch 44/100\n",
            "1000/1000 [==============================] - 1s 1ms/step - loss: 6.6692 - val_loss: 5.4604\n",
            "Epoch 45/100\n",
            "1000/1000 [==============================] - 1s 1ms/step - loss: 7.2561 - val_loss: 7.4015\n",
            "Epoch 46/100\n",
            "1000/1000 [==============================] - 1s 1ms/step - loss: 6.7863 - val_loss: 5.3718\n",
            "Epoch 47/100\n",
            "1000/1000 [==============================] - 1s 1ms/step - loss: 6.7551 - val_loss: 5.1901\n",
            "Epoch 48/100\n",
            "1000/1000 [==============================] - 1s 1ms/step - loss: 6.8423 - val_loss: 5.4329\n",
            "Epoch 49/100\n",
            "1000/1000 [==============================] - 1s 1ms/step - loss: 6.3584 - val_loss: 5.3580\n",
            "Epoch 50/100\n",
            "1000/1000 [==============================] - 1s 1ms/step - loss: 6.5249 - val_loss: 7.2837\n",
            "Epoch 51/100\n",
            "1000/1000 [==============================] - 1s 1ms/step - loss: 6.1696 - val_loss: 7.1317\n",
            "Epoch 52/100\n",
            "1000/1000 [==============================] - 1s 1ms/step - loss: 6.2739 - val_loss: 4.6204\n",
            "Epoch 53/100\n",
            "1000/1000 [==============================] - 1s 1ms/step - loss: 6.4948 - val_loss: 5.0655\n",
            "Epoch 54/100\n",
            "1000/1000 [==============================] - 1s 1ms/step - loss: 5.8927 - val_loss: 7.0651\n",
            "Epoch 55/100\n",
            "1000/1000 [==============================] - 1s 1ms/step - loss: 5.8383 - val_loss: 6.0799\n",
            "Epoch 56/100\n",
            "1000/1000 [==============================] - 1s 1ms/step - loss: 5.7081 - val_loss: 4.8884\n",
            "Epoch 57/100\n",
            "1000/1000 [==============================] - 1s 1ms/step - loss: 5.5221 - val_loss: 4.7338\n",
            "Epoch 58/100\n",
            "1000/1000 [==============================] - 1s 1ms/step - loss: 5.2888 - val_loss: 4.7702\n",
            "Epoch 59/100\n",
            "1000/1000 [==============================] - 1s 1ms/step - loss: 6.5742 - val_loss: 9.1017\n",
            "Epoch 60/100\n",
            "1000/1000 [==============================] - 1s 1ms/step - loss: 5.6076 - val_loss: 5.8229\n",
            "Epoch 61/100\n",
            "1000/1000 [==============================] - 1s 1ms/step - loss: 5.1297 - val_loss: 5.7688\n",
            "Epoch 62/100\n",
            "1000/1000 [==============================] - 1s 1ms/step - loss: 4.8333 - val_loss: 4.9013\n",
            "Epoch 63/100\n",
            "1000/1000 [==============================] - 1s 1ms/step - loss: 5.8405 - val_loss: 5.4786\n",
            "Epoch 64/100\n",
            "1000/1000 [==============================] - 1s 1ms/step - loss: 4.8772 - val_loss: 3.5346\n",
            "Epoch 65/100\n",
            "1000/1000 [==============================] - 1s 1ms/step - loss: 5.5582 - val_loss: 3.8748\n",
            "Epoch 66/100\n",
            "1000/1000 [==============================] - 1s 1ms/step - loss: 5.0972 - val_loss: 3.5677\n",
            "Epoch 67/100\n",
            "1000/1000 [==============================] - 1s 1ms/step - loss: 4.8429 - val_loss: 3.3806\n",
            "Epoch 68/100\n",
            "1000/1000 [==============================] - 1s 1ms/step - loss: 5.2857 - val_loss: 3.8924\n",
            "Epoch 69/100\n",
            "1000/1000 [==============================] - 1s 1ms/step - loss: 5.3370 - val_loss: 3.6039\n",
            "Epoch 70/100\n",
            "1000/1000 [==============================] - 1s 1ms/step - loss: 5.1276 - val_loss: 3.5968\n",
            "Epoch 71/100\n",
            "1000/1000 [==============================] - 1s 1ms/step - loss: 4.9017 - val_loss: 4.5019\n",
            "Epoch 72/100\n",
            "1000/1000 [==============================] - 1s 1ms/step - loss: 5.0983 - val_loss: 3.0439\n",
            "Epoch 73/100\n",
            "1000/1000 [==============================] - 1s 1ms/step - loss: 5.4604 - val_loss: 5.4554\n",
            "Epoch 74/100\n",
            "1000/1000 [==============================] - 1s 1ms/step - loss: 5.2547 - val_loss: 2.9911\n",
            "Epoch 75/100\n",
            "1000/1000 [==============================] - 1s 1ms/step - loss: 4.7625 - val_loss: 3.0226\n",
            "Epoch 76/100\n",
            "1000/1000 [==============================] - 1s 1ms/step - loss: 4.6363 - val_loss: 2.8986\n",
            "Epoch 77/100\n",
            "1000/1000 [==============================] - 1s 1ms/step - loss: 4.8627 - val_loss: 2.6672\n",
            "Epoch 78/100\n",
            "1000/1000 [==============================] - 1s 1ms/step - loss: 4.3946 - val_loss: 2.6789\n",
            "Epoch 79/100\n",
            "1000/1000 [==============================] - 1s 1ms/step - loss: 5.0277 - val_loss: 2.7607\n",
            "Epoch 80/100\n",
            "1000/1000 [==============================] - 1s 1ms/step - loss: 4.9845 - val_loss: 2.7344\n",
            "Epoch 81/100\n",
            "1000/1000 [==============================] - 1s 1ms/step - loss: 4.9452 - val_loss: 3.5979\n",
            "Epoch 82/100\n",
            "1000/1000 [==============================] - 1s 1ms/step - loss: 5.0791 - val_loss: 2.5680\n",
            "Epoch 83/100\n",
            "1000/1000 [==============================] - 1s 1ms/step - loss: 4.3236 - val_loss: 3.2295\n",
            "Epoch 84/100\n",
            "1000/1000 [==============================] - 1s 1ms/step - loss: 4.8178 - val_loss: 3.0689\n",
            "Epoch 85/100\n",
            "1000/1000 [==============================] - 1s 1ms/step - loss: 4.0345 - val_loss: 2.5807\n",
            "Epoch 86/100\n",
            "1000/1000 [==============================] - 1s 1ms/step - loss: 4.4790 - val_loss: 2.8585\n",
            "Epoch 87/100\n",
            "1000/1000 [==============================] - 1s 1ms/step - loss: 4.7192 - val_loss: 2.2858\n",
            "Epoch 88/100\n",
            "1000/1000 [==============================] - 1s 1ms/step - loss: 4.3055 - val_loss: 2.5085\n",
            "Epoch 89/100\n",
            "1000/1000 [==============================] - 1s 1ms/step - loss: 4.2236 - val_loss: 2.6353\n",
            "Epoch 90/100\n",
            "1000/1000 [==============================] - 1s 1ms/step - loss: 4.5348 - val_loss: 2.6070\n",
            "Epoch 91/100\n",
            "1000/1000 [==============================] - 1s 1ms/step - loss: 4.5877 - val_loss: 3.8556\n",
            "Epoch 92/100\n",
            "1000/1000 [==============================] - 1s 1ms/step - loss: 4.4907 - val_loss: 2.5043\n",
            "Epoch 93/100\n",
            "1000/1000 [==============================] - 1s 1ms/step - loss: 4.3200 - val_loss: 2.2731\n",
            "Epoch 94/100\n",
            "1000/1000 [==============================] - 1s 1ms/step - loss: 4.5181 - val_loss: 2.2467\n",
            "Epoch 95/100\n",
            "1000/1000 [==============================] - 1s 1ms/step - loss: 4.7130 - val_loss: 1.9738\n",
            "Epoch 96/100\n",
            "1000/1000 [==============================] - 1s 1ms/step - loss: 4.3474 - val_loss: 2.4102\n",
            "Epoch 97/100\n",
            "1000/1000 [==============================] - 1s 1ms/step - loss: 4.3715 - val_loss: 2.0351\n",
            "Epoch 98/100\n",
            "1000/1000 [==============================] - 1s 1ms/step - loss: 4.7142 - val_loss: 2.1607\n",
            "Epoch 99/100\n",
            "1000/1000 [==============================] - 1s 1ms/step - loss: 4.3298 - val_loss: 3.8624\n",
            "Epoch 100/100\n",
            "1000/1000 [==============================] - 1s 1ms/step - loss: 4.1990 - val_loss: 2.4109\n"
          ],
          "name": "stdout"
        }
      ]
    },
    {
      "cell_type": "code",
      "metadata": {
        "id": "_taDGLY70_m2",
        "colab_type": "code",
        "colab": {
          "base_uri": "https://localhost:8080/",
          "height": 282
        },
        "outputId": "dee0cb09-18ec-4c1b-af6f-605f271f0d45"
      },
      "source": [
        "tr_loss = history2.history['loss']\n",
        "val_loss = history2.history['val_loss']\n",
        "ep = list(range(1,101))\n",
        "plt.plot(ep,tr_loss,color='r')\n",
        "plt.plot(ep,val_loss,color='b')"
      ],
      "execution_count": 40,
      "outputs": [
        {
          "output_type": "execute_result",
          "data": {
            "text/plain": [
              "[<matplotlib.lines.Line2D at 0x7f9e429bedd8>]"
            ]
          },
          "metadata": {
            "tags": []
          },
          "execution_count": 40
        },
        {
          "output_type": "display_data",
          "data": {
            "image/png": "[encoded data removed]",
            "text/plain": [
              "<Figure size 432x288 with 1 Axes>"
            ]
          },
          "metadata": {
            "tags": [],
            "needs_background": "light"
          }
        }
      ]
    },
    {
      "cell_type": "markdown",
      "metadata": {
        "id": "RTVChE051G_1",
        "colab_type": "text"
      },
      "source": [
        "1. get the data\n",
        "2.  what is the target\n",
        "3. Take the target and observe downtrend or uptrend\n",
        "4. Craete input(features) and ouputs(target)\n",
        "5. Train_test_split\n",
        "6. Apply scaling if it required\n",
        "7. Reshape the inputs\n",
        "8. Create a Model\n",
        "9. Compile the model with the proper optimizer and loss\n",
        "10. Metrics =['mse','mae']\n",
        "11. Evaluate the model with test data\n",
        "12. compare the results\n",
        "13. Check for overfitting and underfitting\n",
        "14. If It is an overfitted model apply dropout. or check another model\n",
        "15. Check raw data"
      ]
    },
    {
      "cell_type": "code",
      "metadata": {
        "id": "ZDrqPevP1J-K",
        "colab_type": "code",
        "colab": {}
      },
      "source": [
        ""
      ],
      "execution_count": null,
      "outputs": []
    }
  ]
}