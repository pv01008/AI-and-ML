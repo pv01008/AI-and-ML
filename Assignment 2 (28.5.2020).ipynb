{
 "cells": [
  {
   "cell_type": "markdown",
   "metadata": {},
   "source": [
    "\n",
    "# ECE-221710401008-Pardhu\n",
    "\n"
   ]
  },
  {
   "cell_type": "markdown",
   "metadata": {},
   "source": [
    "### 1.Accept a string from the user and count no.of vowels,consonants and special characters"
   ]
  },
  {
   "cell_type": "code",
   "execution_count": 15,
   "metadata": {},
   "outputs": [
    {
     "name": "stdout",
     "output_type": "stream",
     "text": [
      "enter a stringabc123@\n",
      "Vowels: 1\n",
      "Consonant: 2\n",
      "Digit: 3\n",
      "Special Character: 1\n"
     ]
    }
   ],
   "source": [
    "\n",
    "def countCharacterType(str): \n",
    "    vowels = 0\n",
    "    consonant = 0\n",
    "    specialChar = 0\n",
    "    digit = 0 \n",
    "    for i in range(0, len(str)):   \n",
    "        ch = str[i]  \n",
    "        if ( (ch >= 'a' and ch <= 'z') or \n",
    "             (ch >= 'A' and ch <= 'Z') ):   \n",
    "            ch = ch.lower() \n",
    "            if (ch == 'a' or ch == 'e' or ch == 'i' \n",
    "                        or ch == 'o' or ch == 'u'): \n",
    "                vowels += 1\n",
    "            else: \n",
    "                consonant += 1\n",
    "        elif (ch >= '0' and ch <= '9'): \n",
    "            digit += 1\n",
    "        else: \n",
    "            specialChar += 1\n",
    "    print(\"Vowels:\", vowels) \n",
    "    print(\"Consonant:\", consonant)  \n",
    "    print(\"Digit:\", digit)  \n",
    "    print(\"Special Character:\", specialChar)   \n",
    "str = input(\"enter a string\")\n",
    "countCharacterType(str)"
   ]
  },
  {
   "cell_type": "markdown",
   "metadata": {},
   "source": [
    "### 4)Read the input as two limits and Print the output as Palindrome count between the two limits"
   ]
  },
  {
   "cell_type": "code",
   "execution_count": 14,
   "metadata": {},
   "outputs": [
    {
     "name": "stdout",
     "output_type": "stream",
     "text": [
      " Please Enter the Minimum Value : 1\n",
      " Please Enter the Maximum Value : 100\n",
      "Palindrome Numbers between 1 and 100 are : \n",
      "1   2   3   4   5   6   7   8   9   11   22   33   44   55   66   77   88   99   "
     ]
    }
   ],
   "source": [
    "minimum = int(input(\" Please Enter the Minimum Value : \"))\n",
    "maximum = int(input(\" Please Enter the Maximum Value : \"))\n",
    "\n",
    "print(\"Palindrome Numbers between %d and %d are : \" %(minimum, maximum))\n",
    "for num in range(minimum, maximum + 1):\n",
    "    temp = num\n",
    "    reverse = 0\n",
    "    count = 0\n",
    "    while(temp > 0):\n",
    "        Reminder = temp % 10\n",
    "        reverse = (reverse * 10) + Reminder\n",
    "        temp = temp //10\n",
    "\n",
    "    if(num == reverse):\n",
    "        print(\"%d \" %num, end = '  ')\n",
    "\n",
    "        "
   ]
  },
  {
   "cell_type": "markdown",
   "metadata": {},
   "source": [
    "### 9) Write a Python program which iterates the integers from 1 to 50. For multiples of three print \"Fizz\" instead of the number and for the multiples of five print \"Buzz\". For numbers which are multiples of both three and five print \"FizzBuzz\"."
   ]
  },
  {
   "cell_type": "code",
   "execution_count": 6,
   "metadata": {},
   "outputs": [
    {
     "name": "stdout",
     "output_type": "stream",
     "text": [
      "fizzbuzz\n",
      "1\n",
      "2\n",
      "fizz\n",
      "4\n",
      "buzz\n",
      "fizz\n",
      "7\n",
      "8\n",
      "fizz\n",
      "buzz\n",
      "11\n",
      "fizz\n",
      "13\n",
      "14\n",
      "fizzbuzz\n",
      "16\n",
      "17\n",
      "fizz\n",
      "19\n",
      "buzz\n",
      "fizz\n",
      "22\n",
      "23\n",
      "fizz\n",
      "buzz\n",
      "26\n",
      "fizz\n",
      "28\n",
      "29\n",
      "fizzbuzz\n",
      "31\n",
      "32\n",
      "fizz\n",
      "34\n",
      "buzz\n",
      "fizz\n",
      "37\n",
      "38\n",
      "fizz\n",
      "buzz\n",
      "41\n",
      "fizz\n",
      "43\n",
      "44\n",
      "fizzbuzz\n",
      "46\n",
      "47\n",
      "fizz\n",
      "49\n",
      "buzz\n"
     ]
    }
   ],
   "source": [
    "for fizzbuzz in range(51):\n",
    "    if fizzbuzz % 3 == 0 and fizzbuzz % 5 == 0:\n",
    "        print(\"fizzbuzz\")\n",
    "        continue\n",
    "    elif fizzbuzz % 3 == 0:\n",
    "        print(\"fizz\")\n",
    "        continue\n",
    "    elif fizzbuzz % 5 == 0:\n",
    "        print(\"buzz\")\n",
    "        continue\n",
    "    print(fizzbuzz)"
   ]
  },
  {
   "cell_type": "markdown",
   "metadata": {},
   "source": [
    "### 10) Write a Python program to find the median of three values.\n",
    "Expected Output:\n",
    "Input first number: 26                                            \n",
    "Input second number: 15                                                \n",
    "Input third number: 29                                                  \n",
    "The median is 26\n"
   ]
  },
  {
   "cell_type": "code",
   "execution_count": 5,
   "metadata": {},
   "outputs": [
    {
     "name": "stdout",
     "output_type": "stream",
     "text": [
      "Input first number: 26\n",
      "Input second number: 15\n",
      "Input third number: 29\n",
      "The median is 26.0\n"
     ]
    }
   ],
   "source": [
    "\n",
    "a = float(input(\"Input first number: \"))\n",
    "b = float(input(\"Input second number: \"))\n",
    "c = float(input(\"Input third number: \"))\n",
    "if a > b:\n",
    "    if a < c:\n",
    "        median = a\n",
    "    elif b > c:\n",
    "        median = b\n",
    "    else:\n",
    "        median = c\n",
    "else:\n",
    "    if a > c:\n",
    "        median = a\n",
    "    elif b < c:\n",
    "        median = b\n",
    "    else:\n",
    "        median = c\n",
    "\n",
    "print(\"The median is\", median)"
   ]
  }
 ],
 "metadata": {
  "kernelspec": {
   "display_name": "Python 3",
   "language": "python",
   "name": "python3"
  },
  "language_info": {
   "codemirror_mode": {
    "name": "ipython",
    "version": 3
   },
   "file_extension": ".py",
   "mimetype": "text/x-python",
   "name": "python",
   "nbconvert_exporter": "python",
   "pygments_lexer": "ipython3",
   "version": "3.7.6"
  }
 },
 "nbformat": 4,
 "nbformat_minor": 4
}
